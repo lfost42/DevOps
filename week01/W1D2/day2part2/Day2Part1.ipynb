{
 "cells": [
  {
   "cell_type": "code",
   "execution_count": 10,
   "metadata": {},
   "outputs": [
    {
     "name": "stdout",
     "output_type": "stream",
     "text": [
      "100\n"
     ]
    },
    {
     "data": {
      "text/plain": [
       "10"
      ]
     },
     "execution_count": 10,
     "metadata": {},
     "output_type": "execute_result"
    }
   ],
   "source": [
    "# 1. Consider the following code\n",
    "\n",
    "x = 1\n",
    "y = 2\n",
    "def f1(x):\n",
    "    def f2(y):\n",
    "        print(x + y)\n",
    "    return f2 \n",
    "\n",
    "z = f1(10)\n",
    "z(90)\n",
    "\n",
    "# What will be the output?\n",
    "    #100\n",
    "\n",
    "# What variables and values are present in the closure?\n",
    "    #the z variable is present with a value of 10\n",
    "\n",
    "# How can we verify this i.e where inside z function are they stored?\n",
    "    #we call the contents of the closer using the dunder method\n",
    "z.__closure__[0].cell_contents"
   ]
  },
  {
   "cell_type": "code",
   "execution_count": 28,
   "metadata": {},
   "outputs": [
    {
     "name": "stdout",
     "output_type": "stream",
     "text": [
      "Valid ages\n",
      "Invalid: at least one parent age younger than 18 at child birth\n"
     ]
    }
   ],
   "source": [
    "# 2. Write a function that takes 3 parameters the birth year of a man, woman and their child and calculates the ages of the father and mother when the child was born. Perform some checking to see that the birth year of the father and mother are atleast 18 years when the child was born but the age of the either parent cannot be greater than 60 when the child was born.\n",
    "\n",
    "# Ouput the appropriate message when the ages are out of these bounds.\n",
    "def validate(father, mother, child):\n",
    "\tf_age = child - father\n",
    "\tm_age = child - mother\n",
    "\tif f_age > 60 or m_age > 60:\n",
    "\t\treturn 'Invalid: at least one parent age greater than 60 at child birth'\n",
    "\telif f_age <= 18 or m_age <=18:\n",
    "\t\treturn 'Invalid: at least one parent age younger than 18 at child birth'\n",
    "\telse:\n",
    "\t\treturn 'Valid ages'\n",
    "print(validate(1980, 1978, 2003))\n",
    "print(validate(1980, 1978, 1996))"
   ]
  },
  {
   "cell_type": "code",
   "execution_count": 13,
   "metadata": {},
   "outputs": [
    {
     "name": "stdout",
     "output_type": "stream",
     "text": [
      "[(6, 'Mon'), (7, 'Tue'), (9, 'Wed'), (8, 'Thu'), (6, 'Fri'), (8, 'Sat'), (6, 'Sun')]\n"
     ]
    }
   ],
   "source": [
    "# 3. Given a list \n",
    "list = ['Monday', 'Tuesday', 'Wednesday', 'Thursday', 'Friday', 'Saturday', 'Sunday']\n",
    "\n",
    "# generate another list using list comprehension.\n",
    "# This new list consists of 2 element tuples with the 1st element being the length of the string and the the 2nd element the first 3 letters.\n",
    "\n",
    "# [(6, 'Mon'), (7, 'Tue') and so on...]\n",
    "new_list = [(len(day), day[0:3]) for day in list] \n",
    "print(new_list)"
   ]
  },
  {
   "cell_type": "code",
   "execution_count": 14,
   "metadata": {},
   "outputs": [
    {
     "data": {
      "text/plain": [
       "<function __main__.multiply_a_lot.<locals>.wrapper(a_number)>"
      ]
     },
     "execution_count": 14,
     "metadata": {},
     "output_type": "execute_result"
    }
   ],
   "source": [
    "# 4. Write a decorator function that gives you the time when a function was started and when it finsihed and how much time it took to execute.\n",
    "# (Hint: You will need to use the datetime module )\n",
    "from datetime import datetime\n",
    "# datetime.now() gives you the current time.\n",
    "\n",
    "# Decorate this test function\n",
    "def multiply_a_lot(func):\n",
    "    def wrapper(a_number):\n",
    "        sum = 0\n",
    "        for i in range(a_number):\n",
    "            sum = sum + i * i\n",
    "        return sum\n",
    "    return wrapper\n",
    "\n",
    "def set_time():\n",
    "    print(datetime.now())\n",
    "\n",
    "multiply_a_lot(set_time)\n",
    "# Run the decorated multiply_a_lot function with larger and larger numbers.\n",
    "# What is the number when the time taken is very close to 5 seconds? "
   ]
  },
  {
   "cell_type": "code",
   "execution_count": null,
   "metadata": {},
   "outputs": [],
   "source": []
  }
 ],
 "metadata": {
  "kernelspec": {
   "display_name": "Python 3.9.4 64-bit ('3.9.4')",
   "language": "python",
   "name": "python3"
  },
  "language_info": {
   "codemirror_mode": {
    "name": "ipython",
    "version": 3
   },
   "file_extension": ".py",
   "mimetype": "text/x-python",
   "name": "python",
   "nbconvert_exporter": "python",
   "pygments_lexer": "ipython3",
   "version": "3.9.4"
  },
  "orig_nbformat": 4,
  "vscode": {
   "interpreter": {
    "hash": "d55ab33a75f288f91173c9f95a9333acd1087de306c13adcefb5f8c89f3eb0a2"
   }
  }
 },
 "nbformat": 4,
 "nbformat_minor": 2
}
