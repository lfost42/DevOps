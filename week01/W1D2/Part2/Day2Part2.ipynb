{
 "cells": [
  {
   "cell_type": "code",
   "execution_count": 1,
   "metadata": {},
   "outputs": [
    {
     "name": "stdout",
     "output_type": "stream",
     "text": [
      "\n",
      "car1 attributes and values\n",
      "----\n",
      "year: 1990\n",
      "make: Ford\n",
      "model: Bronco\n",
      "\n",
      "car2 attributes and values\n",
      "----\n",
      "year: 2010\n",
      "make: Chevy\n",
      "model: Blazer\n",
      "drive: RWD\n",
      "\n",
      "car3 attributes and values\n",
      "----\n",
      "year: 2020\n",
      "make: Tesla\n",
      "model: Model3\n",
      "drive: AWD\n",
      "range: 300\n"
     ]
    }
   ],
   "source": [
    "# 1. You are asked to create a Car class and then three Car objects with certain instance attributes. However, the instance attribute names and values are provided to you as a dictionary of key-value pairs where the key is the attribute name and the corresponding value is the value of the attribute. For example\n",
    "\n",
    "car1_attr = {\"year\": 1990, \"make\":\"Ford\", \"model\":\"Bronco\"}\n",
    "car2_attr = {\"year\": 2010, \"make\":\"Chevy\", \"model\":\"Blazer\", \"drive\":\"RWD\"}\n",
    "car3_attr = {\"year\": 2020, \"make\":\"Tesla\", \"model\":\"Model3\", \"drive\":\"AWD\", \"range\": 300}\n",
    "\n",
    "# Create a generic dunder init method that will accept the dictionaries above and create the instance attributes. Your solution must be able to accomodate any future attributes which can be different than the ones above.\n",
    "\n",
    "class Car(object):\n",
    "\tdef __init__(self, data):\n",
    "\t\tfor k, v in data.items():\n",
    "\t\t\tself.__setattr__(k, v)\n",
    "\t\t\tprint(f'{k}: {getattr(self, k)}')\n",
    "\n",
    "# Print out each Car objects attributes and the values after creation.\n",
    "# (Hint: You will need the setattr and getattr functions)\n",
    "print(\"\\ncar1 attributes and values\\n----\")\n",
    "car1 = Car(car1_attr)\n",
    "print(\"\\ncar2 attributes and values\\n----\")\n",
    "car2 = Car(car2_attr)\n",
    "print(\"\\ncar3 attributes and values\\n----\")\n",
    "car3 = Car(car3_attr)\n"
   ]
  },
  {
   "cell_type": "code",
   "execution_count": 2,
   "metadata": {},
   "outputs": [
    {
     "name": "stdout",
     "output_type": "stream",
     "text": [
      "2\n"
     ]
    }
   ],
   "source": [
    "# 2. Create an Employee class which keeps track of the number of instances of employees that have been created.\n",
    "# e1 = Employee() Employee.count #->1\n",
    "# e2 = Employee() Employee.count #->2\n",
    "\n",
    "class EmployeeCount:\n",
    "\tcounter = 0\n",
    "\n",
    "\tdef __init__(self):\n",
    "\t\tEmployeeCount.counter += 1\n",
    "\n",
    "e1 = EmployeeCount()\n",
    "e2 = EmployeeCount()\n",
    "print(EmployeeCount.counter)\n"
   ]
  },
  {
   "cell_type": "code",
   "execution_count": 3,
   "metadata": {},
   "outputs": [
    {
     "name": "stdout",
     "output_type": "stream",
     "text": [
      "Lynda Foster\n",
      "lynda.foster@acme.com\n"
     ]
    }
   ],
   "source": [
    "# 3. Create an employee class which takes in the first and last name. Create a method that returns the full name which is the first plus last name seperated by a space. Also return the email address \n",
    "\n",
    "# firstName = 'John'\n",
    "# lastName = 'Doe'\n",
    "# full name ---> 'John Doe'\n",
    "# email -----> 'john.doe@acme.com'\n",
    "\n",
    "# Notice that the email is all lowercase. Your full name must also have the first letters of the first and last name capitalized whatever the capitalization of the input first and last names. Only the first letters must be capitalized.\n",
    "\n",
    "# firstName --> 'sarah'\n",
    "# lastname --> 'LEE'\n",
    "# full name ---> 'Sarah Lee'\n",
    "# email ---> 'sarah.lee@acme.com'\n",
    "\n",
    "class Employee:\n",
    "\tdef __init__(self, firstName, lastName):\n",
    "\t\tself.firstName = firstName\n",
    "\t\tself.lastName = lastName\n",
    "\n",
    "\tdef fullName(self):\n",
    "\t\treturn f'{self.firstName.title()} {self.lastName.title()}'\n",
    "\n",
    "\tdef email(self):\n",
    "\t\treturn f'{self.firstName.lower()}.{self.lastName.lower()}@acme.com'\n",
    "\n",
    "a = Employee('Lynda', 'FOSTER')\n",
    "print(a.fullName())\n",
    "print(a.email())"
   ]
  },
  {
   "cell_type": "code",
   "execution_count": 4,
   "metadata": {},
   "outputs": [
    {
     "data": {
      "text/plain": [
       "'starter-appended'"
      ]
     },
     "execution_count": 4,
     "metadata": {},
     "output_type": "execute_result"
    }
   ],
   "source": [
    "# 4. Create a class named myString inheriting from the str class.\n",
    "# Add a append() method which takes a string and appends it at the end.\n",
    "\n",
    "class MyString(str):\n",
    "\tdef append(self, input):\n",
    "\t\treturn self+input\n",
    "\n",
    "a = MyString(\"starter\")\n",
    "a.append(\"-appended\")\n"
   ]
  },
  {
   "cell_type": "code",
   "execution_count": null,
   "metadata": {},
   "outputs": [],
   "source": []
  }
 ],
 "metadata": {
  "kernelspec": {
   "display_name": "Python 3.9.4 64-bit ('3.9.4')",
   "language": "python",
   "name": "python3"
  },
  "language_info": {
   "codemirror_mode": {
    "name": "ipython",
    "version": 3
   },
   "file_extension": ".py",
   "mimetype": "text/x-python",
   "name": "python",
   "nbconvert_exporter": "python",
   "pygments_lexer": "ipython3",
   "version": "3.9.4"
  },
  "orig_nbformat": 4,
  "vscode": {
   "interpreter": {
    "hash": "d55ab33a75f288f91173c9f95a9333acd1087de306c13adcefb5f8c89f3eb0a2"
   }
  }
 },
 "nbformat": 4,
 "nbformat_minor": 2
}
