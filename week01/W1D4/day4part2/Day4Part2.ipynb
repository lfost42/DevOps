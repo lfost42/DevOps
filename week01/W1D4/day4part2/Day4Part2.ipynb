{
 "cells": [
  {
   "cell_type": "code",
   "execution_count": null,
   "metadata": {},
   "outputs": [],
   "source": []
  }
 ],
 "metadata": {
  "kernelspec": {
   "display_name": "Python 3.9.4 64-bit ('3.9.4')",
   "language": "python",
   "name": "python3"
  },
  "language_info": {
   "name": "python",
   "version": "3.9.4"
  },
  "orig_nbformat": 4,
  "vscode": {
   "interpreter": {
    "hash": "d55ab33a75f288f91173c9f95a9333acd1087de306c13adcefb5f8c89f3eb0a2"
   }
  }
 },
 "nbformat": 4,
 "nbformat_minor": 2
}
