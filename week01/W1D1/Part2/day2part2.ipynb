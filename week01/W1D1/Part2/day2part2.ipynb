{
 "cells": [
  {
   "cell_type": "code",
   "execution_count": 20,
   "metadata": {},
   "outputs": [
    {
     "name": "stdout",
     "output_type": "stream",
     "text": [
      "5\n",
      "9\n",
      "13\n",
      "17\n",
      "21\n"
     ]
    }
   ],
   "source": [
    "# 1. Print the numbers as follows\n",
    "# 5\n",
    "# 9\n",
    "# 13\n",
    "# 17\n",
    "# 21\n",
    "\n",
    "print('\\n'.join([str(i) for i in range(5, 22, 4)]))\n"
   ]
  },
  {
   "cell_type": "code",
   "execution_count": 52,
   "metadata": {},
   "outputs": [
    {
     "name": "stdout",
     "output_type": "stream",
     "text": [
      "1 d\n",
      "2 c\n",
      "3 b\n",
      "4 a\n"
     ]
    }
   ],
   "source": [
    "# 2. You are given 2 lists\n",
    "x = [1, 2, 3, 4]\n",
    "y = ['a', 'b', 'c', 'd']\n",
    "\n",
    "# Using only a single for loop ensure that the output is the following\n",
    "# 1 d \n",
    "# 2 c \n",
    "# 3 b \n",
    "# 4 a \n",
    "rev_y = list(reversed(y))\n",
    "print('\\n'.join(list(map(lambda a, b: str(a)+ ' ' +str(b), x, rev_y))))\n"
   ]
  },
  {
   "cell_type": "code",
   "execution_count": 53,
   "metadata": {},
   "outputs": [
    {
     "name": "stdout",
     "output_type": "stream",
     "text": [
      "[1, 2]\n"
     ]
    }
   ],
   "source": [
    "# 3. Consider the following list\n",
    "x = [1, 2, 2.3, 'hello', True, '7']\n",
    "# Create a new list with only the integers.\n",
    "\n",
    "new_x = [i for i in x if not isinstance(i, (str, bool, float))]\n",
    "print(new_x)"
   ]
  },
  {
   "cell_type": "code",
   "execution_count": 54,
   "metadata": {},
   "outputs": [
    {
     "name": "stdout",
     "output_type": "stream",
     "text": [
      "UUAGUCGAGC\n"
     ]
    }
   ],
   "source": [
    "# 4. Convert a DNA strand into its RNA counterpart. A DNA strand consists of 4 bases A T G C which have their corresponding bases in RNA U A C G. So A corresponds to U, T to A, G to C and C to G.\n",
    "# Given a DNA strand such as AATCAGCTCG we must get back UUAGUCGAGC.\n",
    "# (Hint: Dictionary)\n",
    "dna = {'A':'U','T':'A','G':'C','C':'G'}\n",
    "\n",
    "def rna(strand):\n",
    "    for letter in strand:\n",
    "        table = str.maketrans(dna)\n",
    "        return strand.translate(table)\n",
    "\n",
    "print(rna('AATCAGCTCG'))"
   ]
  },
  {
   "cell_type": "code",
   "execution_count": 55,
   "metadata": {},
   "outputs": [
    {
     "name": "stdout",
     "output_type": "stream",
     "text": [
      "3\n"
     ]
    }
   ],
   "source": [
    "# 5. Consider the following code.\n",
    "def add(x, y):\n",
    "    z = x + y\n",
    "    return z\n",
    "\n",
    "a = 1\n",
    "b = 2\n",
    "c = add(a, b)\n",
    "print(c)\n",
    "\n",
    "# 1) What is the value of c and the output?\n",
    "\n",
    "# None\n",
    "\n",
    "\n",
    "# 2) What are the global and local variables?\n",
    "\n",
    "# global variables: a, b, c\n",
    "# local variables: z\n",
    "\n",
    "\n",
    "# 3) What do you have to do to change the output to 3?\n",
    "\n",
    "# add: return z to the scope of the add function\n",
    "\n",
    "# 4) after placing the return statement and re-running the ENTIRE code, what are the values of a, b, c, x, y, z after the last print statement?\n",
    "\n",
    "# a = 1\n",
    "# b = 2\n",
    "# c = 3\n",
    "# x = not defined, scoped to function\n",
    "# y = not defined, scoped to function\n",
    "# z = not defnied, scoped to function"
   ]
  }
 ],
 "metadata": {
  "kernelspec": {
   "display_name": "Python 3.11.0 64-bit",
   "language": "python",
   "name": "python3"
  },
  "language_info": {
   "codemirror_mode": {
    "name": "ipython",
    "version": 3
   },
   "file_extension": ".py",
   "mimetype": "text/x-python",
   "name": "python",
   "nbconvert_exporter": "python",
   "pygments_lexer": "ipython3",
   "version": "3.11.0"
  },
  "orig_nbformat": 4,
  "vscode": {
   "interpreter": {
    "hash": "1eb6f1a0e73120bf4ca114b19675917b4464009ef7f891281ba208f2fad8d4d2"
   }
  }
 },
 "nbformat": 4,
 "nbformat_minor": 2
}
