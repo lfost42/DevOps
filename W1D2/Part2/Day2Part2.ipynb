{
 "cells": [
  {
   "cell_type": "code",
   "execution_count": null,
   "metadata": {},
   "outputs": [
    {
     "name": "stdout",
     "output_type": "stream",
     "text": [
      "\n",
      "car1 attributes and values\n",
      "----\n",
      "year: 1990\n",
      "make: Ford\n",
      "model: Bronco\n",
      "\n",
      "car2 attributes and values\n",
      "----\n",
      "year: 2010\n",
      "make: Chevy\n",
      "model: Blazer\n",
      "drive: RWD\n",
      "\n",
      "car3 attributes and values\n",
      "----\n",
      "year: 2020\n",
      "make: Tesla\n",
      "model: Model3\n",
      "drive: AWD\n",
      "range: 300\n"
     ]
    }
   ],
   "source": [
    "# 1. You are asked to create a Car class and then three Car objects with certain instance attributes. However, the instance attribute names and values are provided to you as a dictionary of key-value pairs where the key is the attribute name and the corresponding value is the value of the attribute. For example\n",
    "\n",
    "car1_attr = {\"year\": 1990, \"make\":\"Ford\", \"model\":\"Bronco\"}\n",
    "car2_attr = {\"year\": 2010, \"make\":\"Chevy\", \"model\":\"Blazer\", \"drive\":\"RWD\"}\n",
    "car3_attr = {\"year\": 2020, \"make\":\"Tesla\", \"model\":\"Model3\", \"drive\":\"AWD\", \"range\": 300}\n",
    "\n",
    "# Create a generic dunder init method that will accept the dictionaries above and create the instance attributes. Your solution must be able to accomodate any future attributes which can be different than the ones above.\n",
    "\n",
    "class Car(object):\n",
    "\t\"\"\"\n",
    "\tCar class accepts dictionaries to create instance attributes. \n",
    "\t\"\"\"\n",
    "\tdef __init__(self, data):\n",
    "\t\t\"\"\"Takes a dictionary and creates instance attributes for the class. \n",
    "\n",
    "\t\tArgs:\n",
    "\t\t\tdata (dicitonary): key and value pairs. \n",
    "\t\t\"\"\"\n",
    "\t\tfor k, v in data.items():\n",
    "\t\t\tself.__setattr__(k, v)\n",
    "\t\t\tprint(f'{k}: {getattr(self, k)}')\n",
    "\n",
    "# Print out each Car objects attributes and the values after creation.\n",
    "# (Hint: You will need the setattr and getattr functions)\n",
    "print(\"\\ncar1 attributes and values\\n----\")\n",
    "car1 = Car(car1_attr)\n",
    "print(\"\\ncar2 attributes and values\\n----\")\n",
    "car2 = Car(car2_attr)\n",
    "print(\"\\ncar3 attributes and values\\n----\")\n",
    "car3 = Car(car3_attr)"
   ]
  },
  {
   "cell_type": "code",
   "execution_count": null,
   "metadata": {},
   "outputs": [
    {
     "name": "stdout",
     "output_type": "stream",
     "text": [
      "2\n"
     ]
    }
   ],
   "source": [
    "# 2. Create an Employee class which keeps track of the number of instances of employees that have been created.\n",
    "# e1 = Employee() Employee.count #->1\n",
    "# e2 = Employee() Employee.count #->2\n",
    "\n",
    "class EmployeeCount:\n",
    "\tcounter = 0\n",
    "\n",
    "\tdef __init__(self):\n",
    "\t\t\"\"\"Increments counter by 1 every time an instance of the EmployeeCount class is created. \n",
    "\t\t\"\"\"\n",
    "\t\tEmployeeCount.counter += 1\n",
    "\n",
    "e1 = EmployeeCount()\n",
    "e2 = EmployeeCount()\n",
    "print(EmployeeCount.counter)\n"
   ]
  },
  {
   "cell_type": "code",
   "execution_count": null,
   "metadata": {},
   "outputs": [
    {
     "name": "stdout",
     "output_type": "stream",
     "text": [
      "Lynda Foster\n",
      "lynda.foster@acme.com\n"
     ]
    }
   ],
   "source": [
    "# 3. Create an employee class which takes in the first and last name. Create a method that returns the full name which is the first plus last name seperated by a space. Also return the email address \n",
    "\n",
    "# firstName = 'John'\n",
    "# lastName = 'Doe'\n",
    "# full name ---> 'John Doe'\n",
    "# email -----> 'john.doe@acme.com'\n",
    "\n",
    "# Notice that the email is all lowercase. Your full name must also have the first letters of the first and last name capitalized whatever the capitalization of the input first and last names. Only the first letters must be capitalized.\n",
    "\n",
    "# firstName --> 'sarah'\n",
    "# lastname --> 'LEE'\n",
    "# full name ---> 'Sarah Lee'\n",
    "# email ---> 'sarah.lee@acme.com'\n",
    "\n",
    "class Employee:\n",
    "\tdef __init__(self, firstName, lastName):\n",
    "\t\t\"\"\"Sets firstName and LastName\n",
    "\n",
    "\t\tArgs:\n",
    "\t\t\tfirstName (string): first name\n",
    "\t\t\tlastName (string): last name\n",
    "\t\t\"\"\"\n",
    "\t\tself.firstName = firstName\n",
    "\t\tself.lastName = lastName\n",
    "\n",
    "\tdef fullName(self):\n",
    "\t\t\"\"\"Capitalizes firstName and lastName and concatenates them to fullName. \n",
    "\n",
    "\t\tReturns:\n",
    "\t\t\tstring: capitalize first and last name\n",
    "\t\t\"\"\"\n",
    "\t\treturn f'{self.firstName.title()} {self.lastName.title()}'\n",
    "\n",
    "\tdef email(self):\n",
    "\t\t\"\"\"Takes the employee's first and last names, sets them to lowercase, and generates a formatted email address. \n",
    "\n",
    "\t\tReturns:\n",
    "\t\t\tString: firstname.lastname@acme.com\n",
    "\t\t\"\"\"\n",
    "\t\treturn f'{self.firstName.lower()}.{self.lastName.lower()}@acme.com'\n",
    "\n",
    "a = Employee('Lynda', 'FOSTER')\n",
    "print(a.fullName())\n",
    "print(a.email())"
   ]
  },
  {
   "cell_type": "code",
   "execution_count": null,
   "metadata": {},
   "outputs": [
    {
     "data": {
      "text/plain": [
       "'starter-appended'"
      ]
     },
     "execution_count": 4,
     "metadata": {},
     "output_type": "execute_result"
    }
   ],
   "source": [
    "# 4. Create a class named myString inheriting from the str class.\n",
    "# Add a append() method which takes a string and appends it at the end.\n",
    "\n",
    "class MyString(str):\n",
    "\tdef append(self, input):\n",
    "\t\t\"\"\"A class that inherits from the str class. \n",
    "\n",
    "\t\tArgs:\n",
    "\t\t\tinput (string): any string of characters. \n",
    "\n",
    "\t\tReturns:\n",
    "\t\t\tstring: Returns a string in which the input is appended to the end of another string. \n",
    "\t\t\"\"\"\n",
    "\t\treturn self+input\n",
    "\n",
    "a = MyString(\"starter\")\n",
    "a.append(\"-appended\")\n"
   ]
  },
  {
   "cell_type": "code",
   "execution_count": null,
   "metadata": {},
   "outputs": [],
   "source": []
  }
 ],
 "metadata": {
  "kernelspec": {
   "display_name": "Python 3.11.0 64-bit ('3.11.0')",
   "language": "python",
   "name": "python3"
  },
  "language_info": {
   "codemirror_mode": {
    "name": "ipython",
    "version": 3
   },
   "file_extension": ".py",
   "mimetype": "text/x-python",
   "name": "python",
   "nbconvert_exporter": "python",
   "pygments_lexer": "ipython3",
   "version": "3.11.0"
  },
  "orig_nbformat": 4,
  "vscode": {
   "interpreter": {
    "hash": "9280c93f09b02a8420ec99b809727ab41fb5f297b5db2fc963deb8608a665287"
   }
  }
 },
 "nbformat": 4,
 "nbformat_minor": 2
}
